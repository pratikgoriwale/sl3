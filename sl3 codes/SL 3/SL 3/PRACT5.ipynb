{
 "cells": [
  {
   "cell_type": "code",
   "execution_count": 2,
   "id": "4550f272-9ea4-449d-8130-cc03fb476ec4",
   "metadata": {},
   "outputs": [],
   "source": [
    "import pandas as pd\n",
    "import numpy as np\n",
    "import matplotlib.pyplot as plt\n",
    "import\tseaborn\tas\tsns\n",
    "from\tsklearn.model_selection\timport\ttrain_test_split\n",
    "from\tsklearn.preprocessing\timport\tStandardScaler,\tLabelEncoder\n",
    "from\tsklearn.linear_model\timport\tLogisticRegression\n",
    "from\tsklearn.metrics\timport\tconfusion_matrix,\taccuracy_score,\tprecision_score,\trecall_score"
   ]
  },
  {
   "cell_type": "code",
   "execution_count": 2,
   "id": "465884e4-324a-41c7-bd9c-f7387bd1531c",
   "metadata": {},
   "outputs": [],
   "source": [
    " \n",
    "df = pd.read_csv(\"Social_Network_Ads.csv\")"
   ]
  },
  {
   "cell_type": "code",
   "execution_count": 3,
   "id": "6ab65803-bc5a-4d92-bc0c-e8fd8fead745",
   "metadata": {},
   "outputs": [
    {
     "name": "stdout",
     "output_type": "stream",
     "text": [
      "Sample\tData:\n",
      "     User ID  Gender  Age  EstimatedSalary  Purchased\n",
      "0  15624510    Male   19            19000          0\n",
      "1  15810944    Male   35            20000          0\n",
      "2  15668575  Female   26            43000          0\n",
      "3  15603246  Female   27            57000          0\n",
      "4  15804002    Male   19            76000          0\n"
     ]
    }
   ],
   "source": [
    "\n",
    " print(\"SampleData:\\n\",df.head())"
   ]
  },
  {
   "cell_type": "code",
   "execution_count": 4,
   "id": "5f35cf43-f12d-46b9-9732-b9f3b85fa7c1",
   "metadata": {},
   "outputs": [],
   "source": [
    "# Encode\tcategorical\tvariable\t(Gender)\n",
    "label_encoder=LabelEncoder()\n",
    "df['Gender']\t=\tlabel_encoder.fit_transform(df['Gender'])\t\t# Male=1,\tFemale=0"
   ]
  },
  {
   "cell_type": "code",
   "execution_count": 5,
   "id": "80d837cc-6f6d-4985-816a-3e9fcefe9fe4",
   "metadata": {},
   "outputs": [],
   "source": [
    "#\tSplit\tdata\tinto\tfeatures\tand\ttarget\tvariable\n",
    "X\t=\tdf[['Age',\t'Gender',\t'EstimatedSalary']]\n",
    "y\t=\tdf['Purchased']"
   ]
  },
  {
   "cell_type": "code",
   "execution_count": 6,
   "id": "e72b6321-d1e4-4678-9968-b96e3034fc95",
   "metadata": {},
   "outputs": [],
   "source": [
    "#\tSplit\tinto\ttraining\tand\ttest\tsets\n",
    "X_train,\tX_test,\ty_train,\ty_test\t=\ttrain_test_split(X,\ty,\ttest_size=0.25,\trandom_state=42)"
   ]
  },
  {
   "cell_type": "code",
   "execution_count": 7,
   "id": "0c28db1c-7654-4725-9a22-d24784036be7",
   "metadata": {},
   "outputs": [],
   "source": [
    "# Feature\tscaling\n",
    "scaler\t=\tStandardScaler()\n",
    "X_train\t=\tscaler.fit_transform(X_train)\n",
    "X_test\t=\tscaler.transform(X_test)"
   ]
  },
  {
   "cell_type": "code",
   "execution_count": 10,
   "id": "5482132e-d2bd-471c-ac0c-0546cb7eb53a",
   "metadata": {},
   "outputs": [
    {
     "name": "stdout",
     "output_type": "stream",
     "text": [
      "\n",
      "Feature Scaling Formula:X_scaled=(X-mean)/std_dev\n"
     ]
    }
   ],
   "source": [
    "#\tDisplay\tthe\tfeature\tscaling\tformula\n",
    "print(\"\\nFeature Scaling Formula:X_scaled=(X-mean)/std_dev\")"
   ]
  },
  {
   "cell_type": "code",
   "execution_count": 12,
   "id": "4d0c61b0-f15f-4d32-b5fc-111dd3437b99",
   "metadata": {},
   "outputs": [],
   "source": [
    "#\tTrain\tLogistic\tRegression\tmodel\n",
    "classifier\t=\tLogisticRegression(random_state=42)\n",
    "classifier.fit(X_train,\ty_train)\n",
    "#\tPredict\ton\ttest\tset\n",
    "y_pred\t=\tclassifier.predict(X_test)\n",
    "y_prob\t=\tclassifier.predict_proba(X_test)[:,\t1]\t\t#\tGet\tprobabilities\tfor\tclass\t1\t(Purchased)\n"
   ]
  },
  {
   "cell_type": "code",
   "execution_count": 13,
   "id": "8e81c9af-c238-4ee6-9795-4bef4d855061",
   "metadata": {},
   "outputs": [],
   "source": [
    "#\tCompute\tconfusion\tmatrix\n",
    "cm\t=\tconfusion_matrix(y_test,\ty_pred)\n",
    "TP\t=\tcm[1,\t1]\n",
    "FP\t=\tcm[0,\t1]\n",
    "TN\t=\tcm[0,\t0]\n",
    "FN\t=\tcm[1,\t0]\n",
    "#\tPrint\tresults\n",
    "#\tCompute\tevaluation\tmetrics\n",
    "accuracy\t=\taccuracy_score(y_test,\ty_pred)\n",
    "error_rate\t=\t1\t-\taccuracy\n",
    "precision\t=\tprecision_score(y_test,\ty_pred,\tzero_division=1)\n",
    "recall\t=\trecall_score(y_test,\ty_pred,\tzero_division=1)"
   ]
  },
  {
   "cell_type": "code",
   "execution_count": 15,
   "id": "0e6c8768-7970-4567-b840-0659ad0dce73",
   "metadata": {},
   "outputs": [
    {
     "name": "stdout",
     "output_type": "stream",
     "text": [
      "\n",
      "Confusion Matrix:\n",
      " [[61  2]\n",
      " [10 27]]\n"
     ]
    }
   ],
   "source": [
    " #\tPrint\tresults\n",
    " print(\"\\nConfusion Matrix:\\n\",\tcm)"
   ]
  },
  {
   "cell_type": "code",
   "execution_count": 19,
   "id": "daf8088e-d5da-4e95-9ed3-3d5f82145b21",
   "metadata": {},
   "outputs": [
    {
     "name": "stdout",
     "output_type": "stream",
     "text": [
      "\n",
      "Accuracy:0.88(Formula:(TP+TN)/(TP+FP+TN\t+FN))\n"
     ]
    }
   ],
   "source": [
    "print(f\"\\nAccuracy:{accuracy:.2f}(Formula:(TP+TN)/(TP+FP+TN\t+FN))\")"
   ]
  },
  {
   "cell_type": "code",
   "execution_count": 20,
   "id": "0635bde8-7c50-45d7-b33c-7332c03e163e",
   "metadata": {},
   "outputs": [
    {
     "name": "stdout",
     "output_type": "stream",
     "text": [
      "Error\tRate:\t0.12\t(Formula:\t1\t-\tAccuracy)\n"
     ]
    }
   ],
   "source": [
    " print(f\"Error\tRate:\t{error_rate:.2f}\t(Formula:\t1\t-\tAccuracy)\")"
   ]
  },
  {
   "cell_type": "code",
   "execution_count": 21,
   "id": "05c29c41-0ea2-4296-bcd5-ebc25af9b8f3",
   "metadata": {},
   "outputs": [
    {
     "name": "stdout",
     "output_type": "stream",
     "text": [
      "Precision: 0.93 (Formula: TP / (TP + FP))\n"
     ]
    }
   ],
   "source": [
    "# Print Precision\n",
    "print(f\"Precision: {precision:.2f} (Formula: TP / (TP + FP))\")"
   ]
  },
  {
   "cell_type": "code",
   "execution_count": 22,
   "id": "b2dcb96b-b400-4e40-8fac-b2fb29646093",
   "metadata": {},
   "outputs": [
    {
     "name": "stdout",
     "output_type": "stream",
     "text": [
      "Recall: 0.73 (Formula: TP / (TP + FN))\n"
     ]
    }
   ],
   "source": [
    "# Print Recall\n",
    "print(f\"Recall: {recall:.2f} (Formula: TP / (TP + FN))\")"
   ]
  },
  {
   "cell_type": "code",
   "execution_count": 23,
   "id": "18a37e4c-52f4-46b1-955e-5b514c5476a7",
   "metadata": {},
   "outputs": [
    {
     "name": "stdout",
     "output_type": "stream",
     "text": [
      "\n",
      "Sample Predictions with Probability:\n",
      "    Actual  Predicted  Probability\n",
      "0       0          0     0.256173\n",
      "1       1          1     0.970592\n",
      "2       0          0     0.022059\n",
      "3       1          1     0.840024\n",
      "4       0          0     0.016168\n"
     ]
    }
   ],
   "source": [
    "# Display some predictions with their probabilities\n",
    "df_results = pd.DataFrame({\n",
    "    \"Actual\": y_test.values,\n",
    "    \"Predicted\": y_pred,\n",
    "    \"Probability\": y_prob\n",
    "})\n",
    "print(\"\\nSample Predictions with Probability:\\n\", df_results.head())"
   ]
  },
  {
   "cell_type": "code",
   "execution_count": 24,
   "id": "07958661-69b0-49a0-a9e6-a4b6e996680e",
   "metadata": {},
   "outputs": [
    {
     "data": {
      "image/png": "[encoded data removed]",
      "text/plain": [
       "<Figure size 600x400 with 2 Axes>"
      ]
     },
     "metadata": {},
     "output_type": "display_data"
    }
   ],
   "source": [
    "# Plot confusion matrix\n",
    "plt.figure(figsize=(6, 4))\n",
    "sns.heatmap(cm, annot=True, fmt='d', cmap='Blues',\n",
    "            xticklabels=['Not Purchased', 'Purchased'],\n",
    "            yticklabels=['Not Purchased', 'Purchased'])\n",
    "plt.xlabel('Predicted')\n",
    "plt.ylabel('Actual')\n",
    "plt.title('Confusion Matrix')\n",
    "plt.show()"
   ]
  },
  {
   "cell_type": "code",
   "execution_count": null,
   "id": "91a9304a-694e-4761-b431-c06c8978e68c",
   "metadata": {},
   "outputs": [],
   "source": []
  }
 ],
 "metadata": {
  "kernelspec": {
   "display_name": "Python 3 (ipykernel)",
   "language": "python",
   "name": "python3"
  },
  "language_info": {
   "codemirror_mode": {
    "name": "ipython",
    "version": 3
   },
   "file_extension": ".py",
   "mimetype": "text/x-python",
   "name": "python",
   "nbconvert_exporter": "python",
   "pygments_lexer": "ipython3",
   "version": "3.12.4"
  }
 },
 "nbformat": 4,
 "nbformat_minor": 5
}
